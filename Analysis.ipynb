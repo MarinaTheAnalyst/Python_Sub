{
 "cells": [
  {
   "cell_type": "code",
   "execution_count": 286,
   "metadata": {
    "collapsed": true
   },
   "outputs": [],
   "source": [
    "import pandas as pd\n",
    "import os"
   ]
  },
  {
   "cell_type": "code",
   "execution_count": 287,
   "outputs": [],
   "source": [
    "# df = pd.read_csv(\"./Pandas-Data-Science-Tasks-master/SalesAnalysis/Sales_Data/Sales_April_2019.csv\")\n",
    "# df.head()\n",
    "# df.tail()"
   ],
   "metadata": {
    "collapsed": false,
    "pycharm": {
     "name": "#%%\n"
    }
   }
  },
  {
   "cell_type": "code",
   "execution_count": 288,
   "outputs": [],
   "source": [
    "files = [file for file in os.listdir('./Pandas-Data-Science-Tasks-master/SalesAnalysis/Sales_Data')]\n",
    "\n",
    "all_months_df = pd.DataFrame() #creating an empty dataframe to put in concat all the files\n",
    "\n",
    "for file in files:\n",
    "    df = pd.read_csv(\"./Pandas-Data-Science-Tasks-master/SalesAnalysis/Sales_Data/\"+file)\n",
    "    all_months_df = pd.concat([all_months_df,df])\n"
   ],
   "metadata": {
    "collapsed": false,
    "pycharm": {
     "name": "#%%\n"
    }
   }
  },
  {
   "cell_type": "code",
   "execution_count": 289,
   "outputs": [
    {
     "data": {
      "text/plain": "  Order ID               Product Quantity Ordered Price Each      Order Date  \\\n0   295665    Macbook Pro Laptop                1       1700  12/30/19 00:01   \n1   295666    LG Washing Machine                1      600.0  12/29/19 07:03   \n2   295667  USB-C Charging Cable                1      11.95  12/12/19 18:21   \n3   295668      27in FHD Monitor                1     149.99  12/22/19 15:13   \n4   295669  USB-C Charging Cable                1      11.95  12/18/19 12:38   \n\n                         Purchase Address  \n0  136 Church St, New York City, NY 10001  \n1     562 2nd St, New York City, NY 10001  \n2    277 Main St, New York City, NY 10001  \n3     410 6th St, San Francisco, CA 94016  \n4           43 Hill St, Atlanta, GA 30301  ",
      "text/html": "<div>\n<style scoped>\n    .dataframe tbody tr th:only-of-type {\n        vertical-align: middle;\n    }\n\n    .dataframe tbody tr th {\n        vertical-align: top;\n    }\n\n    .dataframe thead th {\n        text-align: right;\n    }\n</style>\n<table border=\"1\" class=\"dataframe\">\n  <thead>\n    <tr style=\"text-align: right;\">\n      <th></th>\n      <th>Order ID</th>\n      <th>Product</th>\n      <th>Quantity Ordered</th>\n      <th>Price Each</th>\n      <th>Order Date</th>\n      <th>Purchase Address</th>\n    </tr>\n  </thead>\n  <tbody>\n    <tr>\n      <th>0</th>\n      <td>295665</td>\n      <td>Macbook Pro Laptop</td>\n      <td>1</td>\n      <td>1700</td>\n      <td>12/30/19 00:01</td>\n      <td>136 Church St, New York City, NY 10001</td>\n    </tr>\n    <tr>\n      <th>1</th>\n      <td>295666</td>\n      <td>LG Washing Machine</td>\n      <td>1</td>\n      <td>600.0</td>\n      <td>12/29/19 07:03</td>\n      <td>562 2nd St, New York City, NY 10001</td>\n    </tr>\n    <tr>\n      <th>2</th>\n      <td>295667</td>\n      <td>USB-C Charging Cable</td>\n      <td>1</td>\n      <td>11.95</td>\n      <td>12/12/19 18:21</td>\n      <td>277 Main St, New York City, NY 10001</td>\n    </tr>\n    <tr>\n      <th>3</th>\n      <td>295668</td>\n      <td>27in FHD Monitor</td>\n      <td>1</td>\n      <td>149.99</td>\n      <td>12/22/19 15:13</td>\n      <td>410 6th St, San Francisco, CA 94016</td>\n    </tr>\n    <tr>\n      <th>4</th>\n      <td>295669</td>\n      <td>USB-C Charging Cable</td>\n      <td>1</td>\n      <td>11.95</td>\n      <td>12/18/19 12:38</td>\n      <td>43 Hill St, Atlanta, GA 30301</td>\n    </tr>\n  </tbody>\n</table>\n</div>"
     },
     "execution_count": 289,
     "metadata": {},
     "output_type": "execute_result"
    }
   ],
   "source": [
    "all_months_df.head()"
   ],
   "metadata": {
    "collapsed": false,
    "pycharm": {
     "name": "#%%\n"
    }
   }
  },
  {
   "cell_type": "code",
   "execution_count": 290,
   "outputs": [],
   "source": [
    "all_months_df.to_csv(\"all_data.csv\", index=False)"
   ],
   "metadata": {
    "collapsed": false,
    "pycharm": {
     "name": "#%%\n"
    }
   }
  },
  {
   "cell_type": "code",
   "execution_count": 291,
   "outputs": [
    {
     "data": {
      "text/plain": "  Order ID               Product Quantity Ordered Price Each      Order Date  \\\n0   295665    Macbook Pro Laptop                1       1700  12/30/19 00:01   \n1   295666    LG Washing Machine                1      600.0  12/29/19 07:03   \n2   295667  USB-C Charging Cable                1      11.95  12/12/19 18:21   \n3   295668      27in FHD Monitor                1     149.99  12/22/19 15:13   \n4   295669  USB-C Charging Cable                1      11.95  12/18/19 12:38   \n\n                         Purchase Address  \n0  136 Church St, New York City, NY 10001  \n1     562 2nd St, New York City, NY 10001  \n2    277 Main St, New York City, NY 10001  \n3     410 6th St, San Francisco, CA 94016  \n4           43 Hill St, Atlanta, GA 30301  ",
      "text/html": "<div>\n<style scoped>\n    .dataframe tbody tr th:only-of-type {\n        vertical-align: middle;\n    }\n\n    .dataframe tbody tr th {\n        vertical-align: top;\n    }\n\n    .dataframe thead th {\n        text-align: right;\n    }\n</style>\n<table border=\"1\" class=\"dataframe\">\n  <thead>\n    <tr style=\"text-align: right;\">\n      <th></th>\n      <th>Order ID</th>\n      <th>Product</th>\n      <th>Quantity Ordered</th>\n      <th>Price Each</th>\n      <th>Order Date</th>\n      <th>Purchase Address</th>\n    </tr>\n  </thead>\n  <tbody>\n    <tr>\n      <th>0</th>\n      <td>295665</td>\n      <td>Macbook Pro Laptop</td>\n      <td>1</td>\n      <td>1700</td>\n      <td>12/30/19 00:01</td>\n      <td>136 Church St, New York City, NY 10001</td>\n    </tr>\n    <tr>\n      <th>1</th>\n      <td>295666</td>\n      <td>LG Washing Machine</td>\n      <td>1</td>\n      <td>600.0</td>\n      <td>12/29/19 07:03</td>\n      <td>562 2nd St, New York City, NY 10001</td>\n    </tr>\n    <tr>\n      <th>2</th>\n      <td>295667</td>\n      <td>USB-C Charging Cable</td>\n      <td>1</td>\n      <td>11.95</td>\n      <td>12/12/19 18:21</td>\n      <td>277 Main St, New York City, NY 10001</td>\n    </tr>\n    <tr>\n      <th>3</th>\n      <td>295668</td>\n      <td>27in FHD Monitor</td>\n      <td>1</td>\n      <td>149.99</td>\n      <td>12/22/19 15:13</td>\n      <td>410 6th St, San Francisco, CA 94016</td>\n    </tr>\n    <tr>\n      <th>4</th>\n      <td>295669</td>\n      <td>USB-C Charging Cable</td>\n      <td>1</td>\n      <td>11.95</td>\n      <td>12/18/19 12:38</td>\n      <td>43 Hill St, Atlanta, GA 30301</td>\n    </tr>\n  </tbody>\n</table>\n</div>"
     },
     "execution_count": 291,
     "metadata": {},
     "output_type": "execute_result"
    }
   ],
   "source": [
    "all_data = pd.read_csv('all_data.csv')\n",
    "all_data.head()"
   ],
   "metadata": {
    "collapsed": false,
    "pycharm": {
     "name": "#%%\n"
    }
   }
  },
  {
   "cell_type": "code",
   "execution_count": 292,
   "outputs": [],
   "source": [
    "# Cleaning Data"
   ],
   "metadata": {
    "collapsed": false,
    "pycharm": {
     "name": "#%%\n"
    }
   }
  },
  {
   "cell_type": "code",
   "execution_count": 293,
   "outputs": [],
   "source": [
    "all_data = all_data.dropna(how='all')"
   ],
   "metadata": {
    "collapsed": false,
    "pycharm": {
     "name": "#%%\n"
    }
   }
  },
  {
   "cell_type": "code",
   "execution_count": 294,
   "outputs": [],
   "source": [
    "all_data = all_data[all_data['Order Date'].str[0:2] != 'Or']"
   ],
   "metadata": {
    "collapsed": false,
    "pycharm": {
     "name": "#%%\n"
    }
   }
  },
  {
   "cell_type": "code",
   "execution_count": 295,
   "outputs": [],
   "source": [
    "# augmented data\n",
    "all_data['Month'] = all_data['Order Date'].str[0:2]\n",
    "all_data['Month'] = all_data['Month'].astype('int32')"
   ],
   "metadata": {
    "collapsed": false,
    "pycharm": {
     "name": "#%%\n"
    }
   }
  },
  {
   "cell_type": "code",
   "execution_count": 296,
   "outputs": [
    {
     "data": {
      "text/plain": "  Order ID               Product Quantity Ordered Price Each      Order Date  \\\n0   295665    Macbook Pro Laptop                1       1700  12/30/19 00:01   \n1   295666    LG Washing Machine                1      600.0  12/29/19 07:03   \n2   295667  USB-C Charging Cable                1      11.95  12/12/19 18:21   \n3   295668      27in FHD Monitor                1     149.99  12/22/19 15:13   \n4   295669  USB-C Charging Cable                1      11.95  12/18/19 12:38   \n\n                         Purchase Address  Month  \n0  136 Church St, New York City, NY 10001     12  \n1     562 2nd St, New York City, NY 10001     12  \n2    277 Main St, New York City, NY 10001     12  \n3     410 6th St, San Francisco, CA 94016     12  \n4           43 Hill St, Atlanta, GA 30301     12  ",
      "text/html": "<div>\n<style scoped>\n    .dataframe tbody tr th:only-of-type {\n        vertical-align: middle;\n    }\n\n    .dataframe tbody tr th {\n        vertical-align: top;\n    }\n\n    .dataframe thead th {\n        text-align: right;\n    }\n</style>\n<table border=\"1\" class=\"dataframe\">\n  <thead>\n    <tr style=\"text-align: right;\">\n      <th></th>\n      <th>Order ID</th>\n      <th>Product</th>\n      <th>Quantity Ordered</th>\n      <th>Price Each</th>\n      <th>Order Date</th>\n      <th>Purchase Address</th>\n      <th>Month</th>\n    </tr>\n  </thead>\n  <tbody>\n    <tr>\n      <th>0</th>\n      <td>295665</td>\n      <td>Macbook Pro Laptop</td>\n      <td>1</td>\n      <td>1700</td>\n      <td>12/30/19 00:01</td>\n      <td>136 Church St, New York City, NY 10001</td>\n      <td>12</td>\n    </tr>\n    <tr>\n      <th>1</th>\n      <td>295666</td>\n      <td>LG Washing Machine</td>\n      <td>1</td>\n      <td>600.0</td>\n      <td>12/29/19 07:03</td>\n      <td>562 2nd St, New York City, NY 10001</td>\n      <td>12</td>\n    </tr>\n    <tr>\n      <th>2</th>\n      <td>295667</td>\n      <td>USB-C Charging Cable</td>\n      <td>1</td>\n      <td>11.95</td>\n      <td>12/12/19 18:21</td>\n      <td>277 Main St, New York City, NY 10001</td>\n      <td>12</td>\n    </tr>\n    <tr>\n      <th>3</th>\n      <td>295668</td>\n      <td>27in FHD Monitor</td>\n      <td>1</td>\n      <td>149.99</td>\n      <td>12/22/19 15:13</td>\n      <td>410 6th St, San Francisco, CA 94016</td>\n      <td>12</td>\n    </tr>\n    <tr>\n      <th>4</th>\n      <td>295669</td>\n      <td>USB-C Charging Cable</td>\n      <td>1</td>\n      <td>11.95</td>\n      <td>12/18/19 12:38</td>\n      <td>43 Hill St, Atlanta, GA 30301</td>\n      <td>12</td>\n    </tr>\n  </tbody>\n</table>\n</div>"
     },
     "execution_count": 296,
     "metadata": {},
     "output_type": "execute_result"
    }
   ],
   "source": [
    "all_data.head()"
   ],
   "metadata": {
    "collapsed": false,
    "pycharm": {
     "name": "#%%\n"
    }
   }
  },
  {
   "cell_type": "code",
   "execution_count": 297,
   "outputs": [],
   "source": [
    "# in order to get sales and do the multiplication we first need to convert columns to int/float"
   ],
   "metadata": {
    "collapsed": false,
    "pycharm": {
     "name": "#%%\n"
    }
   }
  },
  {
   "cell_type": "code",
   "execution_count": 298,
   "outputs": [],
   "source": [
    "all_data['Quantity Ordered'] = pd.to_numeric(all_data['Quantity Ordered']) # OR all_data['Quantity Ordered'] = all_data['Quantity Ordered'].astype('int32')\n",
    "all_data['Price Each'] = pd.to_numeric(all_data['Price Each']) # OR all_data['Price Each'] = all_data['Price Each'].astype('float')"
   ],
   "metadata": {
    "collapsed": false,
    "pycharm": {
     "name": "#%%\n"
    }
   }
  },
  {
   "cell_type": "code",
   "execution_count": 299,
   "outputs": [],
   "source": [
    "all_data['Sales'] = all_data['Quantity Ordered']*all_data['Price Each']"
   ],
   "metadata": {
    "collapsed": false,
    "pycharm": {
     "name": "#%%\n"
    }
   }
  },
  {
   "cell_type": "code",
   "execution_count": 300,
   "outputs": [
    {
     "data": {
      "text/plain": "  Order ID               Product  Quantity Ordered  Price Each  \\\n0   295665    Macbook Pro Laptop                 1     1700.00   \n1   295666    LG Washing Machine                 1      600.00   \n2   295667  USB-C Charging Cable                 1       11.95   \n3   295668      27in FHD Monitor                 1      149.99   \n4   295669  USB-C Charging Cable                 1       11.95   \n\n       Order Date                        Purchase Address  Month    Sales  \n0  12/30/19 00:01  136 Church St, New York City, NY 10001     12  1700.00  \n1  12/29/19 07:03     562 2nd St, New York City, NY 10001     12   600.00  \n2  12/12/19 18:21    277 Main St, New York City, NY 10001     12    11.95  \n3  12/22/19 15:13     410 6th St, San Francisco, CA 94016     12   149.99  \n4  12/18/19 12:38           43 Hill St, Atlanta, GA 30301     12    11.95  ",
      "text/html": "<div>\n<style scoped>\n    .dataframe tbody tr th:only-of-type {\n        vertical-align: middle;\n    }\n\n    .dataframe tbody tr th {\n        vertical-align: top;\n    }\n\n    .dataframe thead th {\n        text-align: right;\n    }\n</style>\n<table border=\"1\" class=\"dataframe\">\n  <thead>\n    <tr style=\"text-align: right;\">\n      <th></th>\n      <th>Order ID</th>\n      <th>Product</th>\n      <th>Quantity Ordered</th>\n      <th>Price Each</th>\n      <th>Order Date</th>\n      <th>Purchase Address</th>\n      <th>Month</th>\n      <th>Sales</th>\n    </tr>\n  </thead>\n  <tbody>\n    <tr>\n      <th>0</th>\n      <td>295665</td>\n      <td>Macbook Pro Laptop</td>\n      <td>1</td>\n      <td>1700.00</td>\n      <td>12/30/19 00:01</td>\n      <td>136 Church St, New York City, NY 10001</td>\n      <td>12</td>\n      <td>1700.00</td>\n    </tr>\n    <tr>\n      <th>1</th>\n      <td>295666</td>\n      <td>LG Washing Machine</td>\n      <td>1</td>\n      <td>600.00</td>\n      <td>12/29/19 07:03</td>\n      <td>562 2nd St, New York City, NY 10001</td>\n      <td>12</td>\n      <td>600.00</td>\n    </tr>\n    <tr>\n      <th>2</th>\n      <td>295667</td>\n      <td>USB-C Charging Cable</td>\n      <td>1</td>\n      <td>11.95</td>\n      <td>12/12/19 18:21</td>\n      <td>277 Main St, New York City, NY 10001</td>\n      <td>12</td>\n      <td>11.95</td>\n    </tr>\n    <tr>\n      <th>3</th>\n      <td>295668</td>\n      <td>27in FHD Monitor</td>\n      <td>1</td>\n      <td>149.99</td>\n      <td>12/22/19 15:13</td>\n      <td>410 6th St, San Francisco, CA 94016</td>\n      <td>12</td>\n      <td>149.99</td>\n    </tr>\n    <tr>\n      <th>4</th>\n      <td>295669</td>\n      <td>USB-C Charging Cable</td>\n      <td>1</td>\n      <td>11.95</td>\n      <td>12/18/19 12:38</td>\n      <td>43 Hill St, Atlanta, GA 30301</td>\n      <td>12</td>\n      <td>11.95</td>\n    </tr>\n  </tbody>\n</table>\n</div>"
     },
     "execution_count": 300,
     "metadata": {},
     "output_type": "execute_result"
    }
   ],
   "source": [
    "all_data.head()"
   ],
   "metadata": {
    "collapsed": false,
    "pycharm": {
     "name": "#%%\n"
    }
   }
  },
  {
   "cell_type": "code",
   "execution_count": 301,
   "outputs": [],
   "source": [
    "all_data = all_data.sort_values(by='Sales', ascending=False)"
   ],
   "metadata": {
    "collapsed": false,
    "pycharm": {
     "name": "#%%\n"
    }
   }
  },
  {
   "cell_type": "code",
   "execution_count": 302,
   "outputs": [
    {
     "data": {
      "text/plain": "       Order ID             Product  Quantity Ordered  Price Each  \\\n29834    181069  Macbook Pro Laptop                 2     1700.00   \n173613   210292  Macbook Pro Laptop                 2     1700.00   \n89549    200528  Macbook Pro Laptop                 2     1700.00   \n30336    181544  Macbook Pro Laptop                 2     1700.00   \n137282   278637     ThinkPad Laptop                 2      999.99   \n\n            Order Date                       Purchase Address  Month    Sales  \n29834   04/27/19 21:01   668 Park St, San Francisco, CA 94016      4  3400.00  \n173613  06/08/19 09:00  953 Ridge St, San Francisco, CA 94016      6  3400.00  \n89549   05/13/19 13:40           643 4th St, Boston, MA 02215      5  3400.00  \n30336   04/22/19 12:48   731 11th St, New York City, NY 10001      4  3400.00  \n137282  10/02/19 16:06         643 Cedar St, Boston, MA 02215     10  1999.98  ",
      "text/html": "<div>\n<style scoped>\n    .dataframe tbody tr th:only-of-type {\n        vertical-align: middle;\n    }\n\n    .dataframe tbody tr th {\n        vertical-align: top;\n    }\n\n    .dataframe thead th {\n        text-align: right;\n    }\n</style>\n<table border=\"1\" class=\"dataframe\">\n  <thead>\n    <tr style=\"text-align: right;\">\n      <th></th>\n      <th>Order ID</th>\n      <th>Product</th>\n      <th>Quantity Ordered</th>\n      <th>Price Each</th>\n      <th>Order Date</th>\n      <th>Purchase Address</th>\n      <th>Month</th>\n      <th>Sales</th>\n    </tr>\n  </thead>\n  <tbody>\n    <tr>\n      <th>29834</th>\n      <td>181069</td>\n      <td>Macbook Pro Laptop</td>\n      <td>2</td>\n      <td>1700.00</td>\n      <td>04/27/19 21:01</td>\n      <td>668 Park St, San Francisco, CA 94016</td>\n      <td>4</td>\n      <td>3400.00</td>\n    </tr>\n    <tr>\n      <th>173613</th>\n      <td>210292</td>\n      <td>Macbook Pro Laptop</td>\n      <td>2</td>\n      <td>1700.00</td>\n      <td>06/08/19 09:00</td>\n      <td>953 Ridge St, San Francisco, CA 94016</td>\n      <td>6</td>\n      <td>3400.00</td>\n    </tr>\n    <tr>\n      <th>89549</th>\n      <td>200528</td>\n      <td>Macbook Pro Laptop</td>\n      <td>2</td>\n      <td>1700.00</td>\n      <td>05/13/19 13:40</td>\n      <td>643 4th St, Boston, MA 02215</td>\n      <td>5</td>\n      <td>3400.00</td>\n    </tr>\n    <tr>\n      <th>30336</th>\n      <td>181544</td>\n      <td>Macbook Pro Laptop</td>\n      <td>2</td>\n      <td>1700.00</td>\n      <td>04/22/19 12:48</td>\n      <td>731 11th St, New York City, NY 10001</td>\n      <td>4</td>\n      <td>3400.00</td>\n    </tr>\n    <tr>\n      <th>137282</th>\n      <td>278637</td>\n      <td>ThinkPad Laptop</td>\n      <td>2</td>\n      <td>999.99</td>\n      <td>10/02/19 16:06</td>\n      <td>643 Cedar St, Boston, MA 02215</td>\n      <td>10</td>\n      <td>1999.98</td>\n    </tr>\n  </tbody>\n</table>\n</div>"
     },
     "execution_count": 302,
     "metadata": {},
     "output_type": "execute_result"
    }
   ],
   "source": [
    "all_data.head()"
   ],
   "metadata": {
    "collapsed": false,
    "pycharm": {
     "name": "#%%\n"
    }
   }
  },
  {
   "cell_type": "code",
   "execution_count": 303,
   "outputs": [
    {
     "name": "stderr",
     "output_type": "stream",
     "text": [
      "/var/folders/sd/vw2b2tf52yq_7zmqkl8llhp80000gp/T/ipykernel_53695/634113217.py:1: FutureWarning: The default value of numeric_only in DataFrameGroupBy.sum is deprecated. In a future version, numeric_only will default to False. Either specify numeric_only or select only columns which should be valid for the function.\n",
      "  results = all_data.groupby('Month').sum()\n"
     ]
    }
   ],
   "source": [
    "results = all_data.groupby('Month').sum()"
   ],
   "metadata": {
    "collapsed": false,
    "pycharm": {
     "name": "#%%\n"
    }
   }
  },
  {
   "cell_type": "code",
   "execution_count": 304,
   "outputs": [],
   "source": [
    "import matplotlib.pyplot as plt"
   ],
   "metadata": {
    "collapsed": false,
    "pycharm": {
     "name": "#%%\n"
    }
   }
  },
  {
   "cell_type": "code",
   "execution_count": 305,
   "outputs": [
    {
     "data": {
      "text/plain": "<Figure size 640x480 with 1 Axes>",
      "image/png": "[encoded data removed]"
     },
     "metadata": {},
     "output_type": "display_data"
    }
   ],
   "source": [
    "months = range(1,13)\n",
    "plt.bar(months,results['Sales'])\n",
    "plt.xticks(months)\n",
    "plt.ylabel('Sales in USD')\n",
    "plt.xlabel('Month Number')\n",
    "plt.show()"
   ],
   "metadata": {
    "collapsed": false,
    "pycharm": {
     "name": "#%%\n"
    }
   }
  },
  {
   "cell_type": "markdown",
   "source": [
    "### What city has the highest number of sales"
   ],
   "metadata": {
    "collapsed": false,
    "pycharm": {
     "name": "#%% md\n"
    }
   }
  },
  {
   "cell_type": "code",
   "execution_count": 306,
   "outputs": [],
   "source": [
    "def get_city(address):\n",
    "        return address.split(',')[1]\n",
    "\n",
    "\n",
    "def get_state(address):\n",
    "        return address.split(',')[2].split(' ')[1]\n",
    "\n",
    "all_data['City'] = all_data['Purchase Address'].apply(lambda x: f\"{get_city(x)} ({get_state(x)})\")"
   ],
   "metadata": {
    "collapsed": false,
    "pycharm": {
     "name": "#%%\n"
    }
   }
  },
  {
   "cell_type": "code",
   "execution_count": 307,
   "outputs": [
    {
     "data": {
      "text/plain": "       Order ID             Product  Quantity Ordered  Price Each  \\\n29834    181069  Macbook Pro Laptop                 2     1700.00   \n173613   210292  Macbook Pro Laptop                 2     1700.00   \n89549    200528  Macbook Pro Laptop                 2     1700.00   \n30336    181544  Macbook Pro Laptop                 2     1700.00   \n137282   278637     ThinkPad Laptop                 2      999.99   \n\n            Order Date                       Purchase Address  Month    Sales  \\\n29834   04/27/19 21:01   668 Park St, San Francisco, CA 94016      4  3400.00   \n173613  06/08/19 09:00  953 Ridge St, San Francisco, CA 94016      6  3400.00   \n89549   05/13/19 13:40           643 4th St, Boston, MA 02215      5  3400.00   \n30336   04/22/19 12:48   731 11th St, New York City, NY 10001      4  3400.00   \n137282  10/02/19 16:06         643 Cedar St, Boston, MA 02215     10  1999.98   \n\n                       City  \n29834    San Francisco (CA)  \n173613   San Francisco (CA)  \n89549           Boston (MA)  \n30336    New York City (NY)  \n137282          Boston (MA)  ",
      "text/html": "<div>\n<style scoped>\n    .dataframe tbody tr th:only-of-type {\n        vertical-align: middle;\n    }\n\n    .dataframe tbody tr th {\n        vertical-align: top;\n    }\n\n    .dataframe thead th {\n        text-align: right;\n    }\n</style>\n<table border=\"1\" class=\"dataframe\">\n  <thead>\n    <tr style=\"text-align: right;\">\n      <th></th>\n      <th>Order ID</th>\n      <th>Product</th>\n      <th>Quantity Ordered</th>\n      <th>Price Each</th>\n      <th>Order Date</th>\n      <th>Purchase Address</th>\n      <th>Month</th>\n      <th>Sales</th>\n      <th>City</th>\n    </tr>\n  </thead>\n  <tbody>\n    <tr>\n      <th>29834</th>\n      <td>181069</td>\n      <td>Macbook Pro Laptop</td>\n      <td>2</td>\n      <td>1700.00</td>\n      <td>04/27/19 21:01</td>\n      <td>668 Park St, San Francisco, CA 94016</td>\n      <td>4</td>\n      <td>3400.00</td>\n      <td>San Francisco (CA)</td>\n    </tr>\n    <tr>\n      <th>173613</th>\n      <td>210292</td>\n      <td>Macbook Pro Laptop</td>\n      <td>2</td>\n      <td>1700.00</td>\n      <td>06/08/19 09:00</td>\n      <td>953 Ridge St, San Francisco, CA 94016</td>\n      <td>6</td>\n      <td>3400.00</td>\n      <td>San Francisco (CA)</td>\n    </tr>\n    <tr>\n      <th>89549</th>\n      <td>200528</td>\n      <td>Macbook Pro Laptop</td>\n      <td>2</td>\n      <td>1700.00</td>\n      <td>05/13/19 13:40</td>\n      <td>643 4th St, Boston, MA 02215</td>\n      <td>5</td>\n      <td>3400.00</td>\n      <td>Boston (MA)</td>\n    </tr>\n    <tr>\n      <th>30336</th>\n      <td>181544</td>\n      <td>Macbook Pro Laptop</td>\n      <td>2</td>\n      <td>1700.00</td>\n      <td>04/22/19 12:48</td>\n      <td>731 11th St, New York City, NY 10001</td>\n      <td>4</td>\n      <td>3400.00</td>\n      <td>New York City (NY)</td>\n    </tr>\n    <tr>\n      <th>137282</th>\n      <td>278637</td>\n      <td>ThinkPad Laptop</td>\n      <td>2</td>\n      <td>999.99</td>\n      <td>10/02/19 16:06</td>\n      <td>643 Cedar St, Boston, MA 02215</td>\n      <td>10</td>\n      <td>1999.98</td>\n      <td>Boston (MA)</td>\n    </tr>\n  </tbody>\n</table>\n</div>"
     },
     "execution_count": 307,
     "metadata": {},
     "output_type": "execute_result"
    }
   ],
   "source": [
    "all_data.head()"
   ],
   "metadata": {
    "collapsed": false,
    "pycharm": {
     "name": "#%%\n"
    }
   }
  },
  {
   "cell_type": "code",
   "execution_count": 308,
   "outputs": [
    {
     "name": "stderr",
     "output_type": "stream",
     "text": [
      "/var/folders/sd/vw2b2tf52yq_7zmqkl8llhp80000gp/T/ipykernel_53695/1953017743.py:1: FutureWarning: The default value of numeric_only in DataFrameGroupBy.sum is deprecated. In a future version, numeric_only will default to False. Either specify numeric_only or select only columns which should be valid for the function.\n",
      "  cities_result = all_data.groupby('City').sum()\n"
     ]
    },
    {
     "data": {
      "text/plain": "                   Quantity Ordered  Price Each   Month       Sales\nCity                                                               \n Atlanta (GA)                 16602  2779908.20  104794  2795498.58\n Austin (TX)                  11153  1809873.61   69829  1819581.75\n Boston (MA)                  22528  3637409.77  141112  3661642.01\n Dallas (TX)                  16730  2752627.82  104620  2767975.40\n Los Angeles (CA)             33289  5421435.23  208325  5452570.80",
      "text/html": "<div>\n<style scoped>\n    .dataframe tbody tr th:only-of-type {\n        vertical-align: middle;\n    }\n\n    .dataframe tbody tr th {\n        vertical-align: top;\n    }\n\n    .dataframe thead th {\n        text-align: right;\n    }\n</style>\n<table border=\"1\" class=\"dataframe\">\n  <thead>\n    <tr style=\"text-align: right;\">\n      <th></th>\n      <th>Quantity Ordered</th>\n      <th>Price Each</th>\n      <th>Month</th>\n      <th>Sales</th>\n    </tr>\n    <tr>\n      <th>City</th>\n      <th></th>\n      <th></th>\n      <th></th>\n      <th></th>\n    </tr>\n  </thead>\n  <tbody>\n    <tr>\n      <th>Atlanta (GA)</th>\n      <td>16602</td>\n      <td>2779908.20</td>\n      <td>104794</td>\n      <td>2795498.58</td>\n    </tr>\n    <tr>\n      <th>Austin (TX)</th>\n      <td>11153</td>\n      <td>1809873.61</td>\n      <td>69829</td>\n      <td>1819581.75</td>\n    </tr>\n    <tr>\n      <th>Boston (MA)</th>\n      <td>22528</td>\n      <td>3637409.77</td>\n      <td>141112</td>\n      <td>3661642.01</td>\n    </tr>\n    <tr>\n      <th>Dallas (TX)</th>\n      <td>16730</td>\n      <td>2752627.82</td>\n      <td>104620</td>\n      <td>2767975.40</td>\n    </tr>\n    <tr>\n      <th>Los Angeles (CA)</th>\n      <td>33289</td>\n      <td>5421435.23</td>\n      <td>208325</td>\n      <td>5452570.80</td>\n    </tr>\n  </tbody>\n</table>\n</div>"
     },
     "execution_count": 308,
     "metadata": {},
     "output_type": "execute_result"
    }
   ],
   "source": [
    "cities_result = all_data.groupby('City').sum()\n",
    "cities_result.head()"
   ],
   "metadata": {
    "collapsed": false,
    "pycharm": {
     "name": "#%%\n"
    }
   }
  },
  {
   "cell_type": "code",
   "execution_count": 309,
   "outputs": [
    {
     "data": {
      "text/plain": "<Figure size 640x480 with 1 Axes>",
      "image/png": "[encoded data removed]"
     },
     "metadata": {},
     "output_type": "display_data"
    }
   ],
   "source": [
    "cities = all_data['City'].unique()\n",
    "plt.bar(cities,cities_result['Sales'])\n",
    "plt.xticks(cities, rotation = 'vertical', size = 8)\n",
    "plt.ylabel('Sales in USD')\n",
    "plt.xlabel('City')\n",
    "plt.show()"
   ],
   "metadata": {
    "collapsed": false,
    "pycharm": {
     "name": "#%%\n"
    }
   }
  },
  {
   "cell_type": "code",
   "execution_count": 309,
   "outputs": [],
   "source": [],
   "metadata": {
    "collapsed": false,
    "pycharm": {
     "name": "#%%\n"
    }
   }
  },
  {
   "cell_type": "code",
   "execution_count": 309,
   "outputs": [],
   "source": [],
   "metadata": {
    "collapsed": false,
    "pycharm": {
     "name": "#%%\n"
    }
   }
  },
  {
   "cell_type": "code",
   "execution_count": 309,
   "outputs": [],
   "source": [],
   "metadata": {
    "collapsed": false,
    "pycharm": {
     "name": "#%%\n"
    }
   }
  }
 ],
 "metadata": {
  "kernelspec": {
   "display_name": "Python 3",
   "language": "python",
   "name": "python3"
  },
  "language_info": {
   "codemirror_mode": {
    "name": "ipython",
    "version": 2
   },
   "file_extension": ".py",
   "mimetype": "text/x-python",
   "name": "python",
   "nbconvert_exporter": "python",
   "pygments_lexer": "ipython2",
   "version": "2.7.6"
  }
 },
 "nbformat": 4,
 "nbformat_minor": 0
}
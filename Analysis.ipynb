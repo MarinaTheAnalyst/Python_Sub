{
 "cells": [
  {
   "cell_type": "code",
   "execution_count": 451,
   "metadata": {
    "collapsed": true
   },
   "outputs": [],
   "source": [
    "import matplotlib.axis\n",
    "import pandas as pd\n",
    "import os\n",
    "\n",
    "import pylab as p"
   ]
  },
  {
   "cell_type": "code",
   "execution_count": 452,
   "outputs": [],
   "source": [
    "# df = pd.read_csv(\"./Pandas-Data-Science-Tasks-master/SalesAnalysis/Sales_Data/Sales_April_2019.csv\")\n",
    "# df.head()\n",
    "# df.tail()"
   ],
   "metadata": {
    "collapsed": false,
    "pycharm": {
     "name": "#%%\n"
    }
   }
  },
  {
   "cell_type": "code",
   "execution_count": 453,
   "outputs": [],
   "source": [
    "files = [file for file in os.listdir('./Pandas-Data-Science-Tasks-master/SalesAnalysis/Sales_Data')]\n",
    "\n",
    "all_months_df = pd.DataFrame() #creating an empty dataframe to put in concat all the files\n",
    "\n",
    "for file in files:\n",
    "    df = pd.read_csv(\"./Pandas-Data-Science-Tasks-master/SalesAnalysis/Sales_Data/\"+file)\n",
    "    all_months_df = pd.concat([all_months_df,df])\n"
   ],
   "metadata": {
    "collapsed": false,
    "pycharm": {
     "name": "#%%\n"
    }
   }
  },
  {
   "cell_type": "code",
   "execution_count": 454,
   "outputs": [
    {
     "data": {
      "text/plain": "  Order ID               Product Quantity Ordered Price Each      Order Date  \\\n0   295665    Macbook Pro Laptop                1       1700  12/30/19 00:01   \n1   295666    LG Washing Machine                1      600.0  12/29/19 07:03   \n2   295667  USB-C Charging Cable                1      11.95  12/12/19 18:21   \n3   295668      27in FHD Monitor                1     149.99  12/22/19 15:13   \n4   295669  USB-C Charging Cable                1      11.95  12/18/19 12:38   \n\n                         Purchase Address  \n0  136 Church St, New York City, NY 10001  \n1     562 2nd St, New York City, NY 10001  \n2    277 Main St, New York City, NY 10001  \n3     410 6th St, San Francisco, CA 94016  \n4           43 Hill St, Atlanta, GA 30301  ",
      "text/html": "<div>\n<style scoped>\n    .dataframe tbody tr th:only-of-type {\n        vertical-align: middle;\n    }\n\n    .dataframe tbody tr th {\n        vertical-align: top;\n    }\n\n    .dataframe thead th {\n        text-align: right;\n    }\n</style>\n<table border=\"1\" class=\"dataframe\">\n  <thead>\n    <tr style=\"text-align: right;\">\n      <th></th>\n      <th>Order ID</th>\n      <th>Product</th>\n      <th>Quantity Ordered</th>\n      <th>Price Each</th>\n      <th>Order Date</th>\n      <th>Purchase Address</th>\n    </tr>\n  </thead>\n  <tbody>\n    <tr>\n      <th>0</th>\n      <td>295665</td>\n      <td>Macbook Pro Laptop</td>\n      <td>1</td>\n      <td>1700</td>\n      <td>12/30/19 00:01</td>\n      <td>136 Church St, New York City, NY 10001</td>\n    </tr>\n    <tr>\n      <th>1</th>\n      <td>295666</td>\n      <td>LG Washing Machine</td>\n      <td>1</td>\n      <td>600.0</td>\n      <td>12/29/19 07:03</td>\n      <td>562 2nd St, New York City, NY 10001</td>\n    </tr>\n    <tr>\n      <th>2</th>\n      <td>295667</td>\n      <td>USB-C Charging Cable</td>\n      <td>1</td>\n      <td>11.95</td>\n      <td>12/12/19 18:21</td>\n      <td>277 Main St, New York City, NY 10001</td>\n    </tr>\n    <tr>\n      <th>3</th>\n      <td>295668</td>\n      <td>27in FHD Monitor</td>\n      <td>1</td>\n      <td>149.99</td>\n      <td>12/22/19 15:13</td>\n      <td>410 6th St, San Francisco, CA 94016</td>\n    </tr>\n    <tr>\n      <th>4</th>\n      <td>295669</td>\n      <td>USB-C Charging Cable</td>\n      <td>1</td>\n      <td>11.95</td>\n      <td>12/18/19 12:38</td>\n      <td>43 Hill St, Atlanta, GA 30301</td>\n    </tr>\n  </tbody>\n</table>\n</div>"
     },
     "execution_count": 454,
     "metadata": {},
     "output_type": "execute_result"
    }
   ],
   "source": [
    "all_months_df.head()"
   ],
   "metadata": {
    "collapsed": false,
    "pycharm": {
     "name": "#%%\n"
    }
   }
  },
  {
   "cell_type": "code",
   "execution_count": 455,
   "outputs": [],
   "source": [
    "all_months_df.to_csv(\"all_data.csv\", index=False)"
   ],
   "metadata": {
    "collapsed": false,
    "pycharm": {
     "name": "#%%\n"
    }
   }
  },
  {
   "cell_type": "code",
   "execution_count": 456,
   "outputs": [
    {
     "data": {
      "text/plain": "  Order ID               Product Quantity Ordered Price Each      Order Date  \\\n0   295665    Macbook Pro Laptop                1       1700  12/30/19 00:01   \n1   295666    LG Washing Machine                1      600.0  12/29/19 07:03   \n2   295667  USB-C Charging Cable                1      11.95  12/12/19 18:21   \n3   295668      27in FHD Monitor                1     149.99  12/22/19 15:13   \n4   295669  USB-C Charging Cable                1      11.95  12/18/19 12:38   \n\n                         Purchase Address  \n0  136 Church St, New York City, NY 10001  \n1     562 2nd St, New York City, NY 10001  \n2    277 Main St, New York City, NY 10001  \n3     410 6th St, San Francisco, CA 94016  \n4           43 Hill St, Atlanta, GA 30301  ",
      "text/html": "<div>\n<style scoped>\n    .dataframe tbody tr th:only-of-type {\n        vertical-align: middle;\n    }\n\n    .dataframe tbody tr th {\n        vertical-align: top;\n    }\n\n    .dataframe thead th {\n        text-align: right;\n    }\n</style>\n<table border=\"1\" class=\"dataframe\">\n  <thead>\n    <tr style=\"text-align: right;\">\n      <th></th>\n      <th>Order ID</th>\n      <th>Product</th>\n      <th>Quantity Ordered</th>\n      <th>Price Each</th>\n      <th>Order Date</th>\n      <th>Purchase Address</th>\n    </tr>\n  </thead>\n  <tbody>\n    <tr>\n      <th>0</th>\n      <td>295665</td>\n      <td>Macbook Pro Laptop</td>\n      <td>1</td>\n      <td>1700</td>\n      <td>12/30/19 00:01</td>\n      <td>136 Church St, New York City, NY 10001</td>\n    </tr>\n    <tr>\n      <th>1</th>\n      <td>295666</td>\n      <td>LG Washing Machine</td>\n      <td>1</td>\n      <td>600.0</td>\n      <td>12/29/19 07:03</td>\n      <td>562 2nd St, New York City, NY 10001</td>\n    </tr>\n    <tr>\n      <th>2</th>\n      <td>295667</td>\n      <td>USB-C Charging Cable</td>\n      <td>1</td>\n      <td>11.95</td>\n      <td>12/12/19 18:21</td>\n      <td>277 Main St, New York City, NY 10001</td>\n    </tr>\n    <tr>\n      <th>3</th>\n      <td>295668</td>\n      <td>27in FHD Monitor</td>\n      <td>1</td>\n      <td>149.99</td>\n      <td>12/22/19 15:13</td>\n      <td>410 6th St, San Francisco, CA 94016</td>\n    </tr>\n    <tr>\n      <th>4</th>\n      <td>295669</td>\n      <td>USB-C Charging Cable</td>\n      <td>1</td>\n      <td>11.95</td>\n      <td>12/18/19 12:38</td>\n      <td>43 Hill St, Atlanta, GA 30301</td>\n    </tr>\n  </tbody>\n</table>\n</div>"
     },
     "execution_count": 456,
     "metadata": {},
     "output_type": "execute_result"
    }
   ],
   "source": [
    "all_data = pd.read_csv('all_data.csv')\n",
    "all_data.head()"
   ],
   "metadata": {
    "collapsed": false,
    "pycharm": {
     "name": "#%%\n"
    }
   }
  },
  {
   "cell_type": "code",
   "execution_count": 457,
   "outputs": [],
   "source": [
    "# Cleaning Data"
   ],
   "metadata": {
    "collapsed": false,
    "pycharm": {
     "name": "#%%\n"
    }
   }
  },
  {
   "cell_type": "code",
   "execution_count": 458,
   "outputs": [],
   "source": [
    "all_data = all_data.dropna(how='all')"
   ],
   "metadata": {
    "collapsed": false,
    "pycharm": {
     "name": "#%%\n"
    }
   }
  },
  {
   "cell_type": "code",
   "execution_count": 459,
   "outputs": [],
   "source": [
    "all_data = all_data[all_data['Order Date'].str[0:2] != 'Or']"
   ],
   "metadata": {
    "collapsed": false,
    "pycharm": {
     "name": "#%%\n"
    }
   }
  },
  {
   "cell_type": "code",
   "execution_count": 460,
   "outputs": [],
   "source": [
    "# augmented data\n",
    "all_data['Month'] = all_data['Order Date'].str[0:2]\n",
    "all_data['Month'] = all_data['Month'].astype('int32')"
   ],
   "metadata": {
    "collapsed": false,
    "pycharm": {
     "name": "#%%\n"
    }
   }
  },
  {
   "cell_type": "code",
   "execution_count": 461,
   "outputs": [
    {
     "data": {
      "text/plain": "  Order ID               Product Quantity Ordered Price Each      Order Date  \\\n0   295665    Macbook Pro Laptop                1       1700  12/30/19 00:01   \n1   295666    LG Washing Machine                1      600.0  12/29/19 07:03   \n2   295667  USB-C Charging Cable                1      11.95  12/12/19 18:21   \n3   295668      27in FHD Monitor                1     149.99  12/22/19 15:13   \n4   295669  USB-C Charging Cable                1      11.95  12/18/19 12:38   \n\n                         Purchase Address  Month  \n0  136 Church St, New York City, NY 10001     12  \n1     562 2nd St, New York City, NY 10001     12  \n2    277 Main St, New York City, NY 10001     12  \n3     410 6th St, San Francisco, CA 94016     12  \n4           43 Hill St, Atlanta, GA 30301     12  ",
      "text/html": "<div>\n<style scoped>\n    .dataframe tbody tr th:only-of-type {\n        vertical-align: middle;\n    }\n\n    .dataframe tbody tr th {\n        vertical-align: top;\n    }\n\n    .dataframe thead th {\n        text-align: right;\n    }\n</style>\n<table border=\"1\" class=\"dataframe\">\n  <thead>\n    <tr style=\"text-align: right;\">\n      <th></th>\n      <th>Order ID</th>\n      <th>Product</th>\n      <th>Quantity Ordered</th>\n      <th>Price Each</th>\n      <th>Order Date</th>\n      <th>Purchase Address</th>\n      <th>Month</th>\n    </tr>\n  </thead>\n  <tbody>\n    <tr>\n      <th>0</th>\n      <td>295665</td>\n      <td>Macbook Pro Laptop</td>\n      <td>1</td>\n      <td>1700</td>\n      <td>12/30/19 00:01</td>\n      <td>136 Church St, New York City, NY 10001</td>\n      <td>12</td>\n    </tr>\n    <tr>\n      <th>1</th>\n      <td>295666</td>\n      <td>LG Washing Machine</td>\n      <td>1</td>\n      <td>600.0</td>\n      <td>12/29/19 07:03</td>\n      <td>562 2nd St, New York City, NY 10001</td>\n      <td>12</td>\n    </tr>\n    <tr>\n      <th>2</th>\n      <td>295667</td>\n      <td>USB-C Charging Cable</td>\n      <td>1</td>\n      <td>11.95</td>\n      <td>12/12/19 18:21</td>\n      <td>277 Main St, New York City, NY 10001</td>\n      <td>12</td>\n    </tr>\n    <tr>\n      <th>3</th>\n      <td>295668</td>\n      <td>27in FHD Monitor</td>\n      <td>1</td>\n      <td>149.99</td>\n      <td>12/22/19 15:13</td>\n      <td>410 6th St, San Francisco, CA 94016</td>\n      <td>12</td>\n    </tr>\n    <tr>\n      <th>4</th>\n      <td>295669</td>\n      <td>USB-C Charging Cable</td>\n      <td>1</td>\n      <td>11.95</td>\n      <td>12/18/19 12:38</td>\n      <td>43 Hill St, Atlanta, GA 30301</td>\n      <td>12</td>\n    </tr>\n  </tbody>\n</table>\n</div>"
     },
     "execution_count": 461,
     "metadata": {},
     "output_type": "execute_result"
    }
   ],
   "source": [
    "all_data.head()"
   ],
   "metadata": {
    "collapsed": false,
    "pycharm": {
     "name": "#%%\n"
    }
   }
  },
  {
   "cell_type": "code",
   "execution_count": 462,
   "outputs": [],
   "source": [
    "# in order to get sales and do the multiplication we first need to convert columns to int/float"
   ],
   "metadata": {
    "collapsed": false,
    "pycharm": {
     "name": "#%%\n"
    }
   }
  },
  {
   "cell_type": "code",
   "execution_count": 463,
   "outputs": [],
   "source": [
    "all_data['Quantity Ordered'] = pd.to_numeric(all_data['Quantity Ordered']) # OR all_data['Quantity Ordered'] = all_data['Quantity Ordered'].astype('int32')\n",
    "all_data['Price Each'] = pd.to_numeric(all_data['Price Each']) # OR all_data['Price Each'] = all_data['Price Each'].astype('float')"
   ],
   "metadata": {
    "collapsed": false,
    "pycharm": {
     "name": "#%%\n"
    }
   }
  },
  {
   "cell_type": "code",
   "execution_count": 464,
   "outputs": [],
   "source": [
    "all_data['Sales'] = all_data['Quantity Ordered']*all_data['Price Each']"
   ],
   "metadata": {
    "collapsed": false,
    "pycharm": {
     "name": "#%%\n"
    }
   }
  },
  {
   "cell_type": "code",
   "execution_count": 465,
   "outputs": [
    {
     "data": {
      "text/plain": "  Order ID               Product  Quantity Ordered  Price Each  \\\n0   295665    Macbook Pro Laptop                 1     1700.00   \n1   295666    LG Washing Machine                 1      600.00   \n2   295667  USB-C Charging Cable                 1       11.95   \n3   295668      27in FHD Monitor                 1      149.99   \n4   295669  USB-C Charging Cable                 1       11.95   \n\n       Order Date                        Purchase Address  Month    Sales  \n0  12/30/19 00:01  136 Church St, New York City, NY 10001     12  1700.00  \n1  12/29/19 07:03     562 2nd St, New York City, NY 10001     12   600.00  \n2  12/12/19 18:21    277 Main St, New York City, NY 10001     12    11.95  \n3  12/22/19 15:13     410 6th St, San Francisco, CA 94016     12   149.99  \n4  12/18/19 12:38           43 Hill St, Atlanta, GA 30301     12    11.95  ",
      "text/html": "<div>\n<style scoped>\n    .dataframe tbody tr th:only-of-type {\n        vertical-align: middle;\n    }\n\n    .dataframe tbody tr th {\n        vertical-align: top;\n    }\n\n    .dataframe thead th {\n        text-align: right;\n    }\n</style>\n<table border=\"1\" class=\"dataframe\">\n  <thead>\n    <tr style=\"text-align: right;\">\n      <th></th>\n      <th>Order ID</th>\n      <th>Product</th>\n      <th>Quantity Ordered</th>\n      <th>Price Each</th>\n      <th>Order Date</th>\n      <th>Purchase Address</th>\n      <th>Month</th>\n      <th>Sales</th>\n    </tr>\n  </thead>\n  <tbody>\n    <tr>\n      <th>0</th>\n      <td>295665</td>\n      <td>Macbook Pro Laptop</td>\n      <td>1</td>\n      <td>1700.00</td>\n      <td>12/30/19 00:01</td>\n      <td>136 Church St, New York City, NY 10001</td>\n      <td>12</td>\n      <td>1700.00</td>\n    </tr>\n    <tr>\n      <th>1</th>\n      <td>295666</td>\n      <td>LG Washing Machine</td>\n      <td>1</td>\n      <td>600.00</td>\n      <td>12/29/19 07:03</td>\n      <td>562 2nd St, New York City, NY 10001</td>\n      <td>12</td>\n      <td>600.00</td>\n    </tr>\n    <tr>\n      <th>2</th>\n      <td>295667</td>\n      <td>USB-C Charging Cable</td>\n      <td>1</td>\n      <td>11.95</td>\n      <td>12/12/19 18:21</td>\n      <td>277 Main St, New York City, NY 10001</td>\n      <td>12</td>\n      <td>11.95</td>\n    </tr>\n    <tr>\n      <th>3</th>\n      <td>295668</td>\n      <td>27in FHD Monitor</td>\n      <td>1</td>\n      <td>149.99</td>\n      <td>12/22/19 15:13</td>\n      <td>410 6th St, San Francisco, CA 94016</td>\n      <td>12</td>\n      <td>149.99</td>\n    </tr>\n    <tr>\n      <th>4</th>\n      <td>295669</td>\n      <td>USB-C Charging Cable</td>\n      <td>1</td>\n      <td>11.95</td>\n      <td>12/18/19 12:38</td>\n      <td>43 Hill St, Atlanta, GA 30301</td>\n      <td>12</td>\n      <td>11.95</td>\n    </tr>\n  </tbody>\n</table>\n</div>"
     },
     "execution_count": 465,
     "metadata": {},
     "output_type": "execute_result"
    }
   ],
   "source": [
    "all_data.head()"
   ],
   "metadata": {
    "collapsed": false,
    "pycharm": {
     "name": "#%%\n"
    }
   }
  },
  {
   "cell_type": "code",
   "execution_count": 466,
   "outputs": [],
   "source": [
    "all_data = all_data.sort_values(by='Sales', ascending=False)"
   ],
   "metadata": {
    "collapsed": false,
    "pycharm": {
     "name": "#%%\n"
    }
   }
  },
  {
   "cell_type": "code",
   "execution_count": 467,
   "outputs": [
    {
     "data": {
      "text/plain": "       Order ID             Product  Quantity Ordered  Price Each  \\\n29834    181069  Macbook Pro Laptop                 2     1700.00   \n173613   210292  Macbook Pro Laptop                 2     1700.00   \n89549    200528  Macbook Pro Laptop                 2     1700.00   \n30336    181544  Macbook Pro Laptop                 2     1700.00   \n137282   278637     ThinkPad Laptop                 2      999.99   \n\n            Order Date                       Purchase Address  Month    Sales  \n29834   04/27/19 21:01   668 Park St, San Francisco, CA 94016      4  3400.00  \n173613  06/08/19 09:00  953 Ridge St, San Francisco, CA 94016      6  3400.00  \n89549   05/13/19 13:40           643 4th St, Boston, MA 02215      5  3400.00  \n30336   04/22/19 12:48   731 11th St, New York City, NY 10001      4  3400.00  \n137282  10/02/19 16:06         643 Cedar St, Boston, MA 02215     10  1999.98  ",
      "text/html": "<div>\n<style scoped>\n    .dataframe tbody tr th:only-of-type {\n        vertical-align: middle;\n    }\n\n    .dataframe tbody tr th {\n        vertical-align: top;\n    }\n\n    .dataframe thead th {\n        text-align: right;\n    }\n</style>\n<table border=\"1\" class=\"dataframe\">\n  <thead>\n    <tr style=\"text-align: right;\">\n      <th></th>\n      <th>Order ID</th>\n      <th>Product</th>\n      <th>Quantity Ordered</th>\n      <th>Price Each</th>\n      <th>Order Date</th>\n      <th>Purchase Address</th>\n      <th>Month</th>\n      <th>Sales</th>\n    </tr>\n  </thead>\n  <tbody>\n    <tr>\n      <th>29834</th>\n      <td>181069</td>\n      <td>Macbook Pro Laptop</td>\n      <td>2</td>\n      <td>1700.00</td>\n      <td>04/27/19 21:01</td>\n      <td>668 Park St, San Francisco, CA 94016</td>\n      <td>4</td>\n      <td>3400.00</td>\n    </tr>\n    <tr>\n      <th>173613</th>\n      <td>210292</td>\n      <td>Macbook Pro Laptop</td>\n      <td>2</td>\n      <td>1700.00</td>\n      <td>06/08/19 09:00</td>\n      <td>953 Ridge St, San Francisco, CA 94016</td>\n      <td>6</td>\n      <td>3400.00</td>\n    </tr>\n    <tr>\n      <th>89549</th>\n      <td>200528</td>\n      <td>Macbook Pro Laptop</td>\n      <td>2</td>\n      <td>1700.00</td>\n      <td>05/13/19 13:40</td>\n      <td>643 4th St, Boston, MA 02215</td>\n      <td>5</td>\n      <td>3400.00</td>\n    </tr>\n    <tr>\n      <th>30336</th>\n      <td>181544</td>\n      <td>Macbook Pro Laptop</td>\n      <td>2</td>\n      <td>1700.00</td>\n      <td>04/22/19 12:48</td>\n      <td>731 11th St, New York City, NY 10001</td>\n      <td>4</td>\n      <td>3400.00</td>\n    </tr>\n    <tr>\n      <th>137282</th>\n      <td>278637</td>\n      <td>ThinkPad Laptop</td>\n      <td>2</td>\n      <td>999.99</td>\n      <td>10/02/19 16:06</td>\n      <td>643 Cedar St, Boston, MA 02215</td>\n      <td>10</td>\n      <td>1999.98</td>\n    </tr>\n  </tbody>\n</table>\n</div>"
     },
     "execution_count": 467,
     "metadata": {},
     "output_type": "execute_result"
    }
   ],
   "source": [
    "all_data.head()"
   ],
   "metadata": {
    "collapsed": false,
    "pycharm": {
     "name": "#%%\n"
    }
   }
  },
  {
   "cell_type": "code",
   "execution_count": 468,
   "outputs": [
    {
     "name": "stderr",
     "output_type": "stream",
     "text": [
      "/var/folders/sd/vw2b2tf52yq_7zmqkl8llhp80000gp/T/ipykernel_53695/634113217.py:1: FutureWarning: The default value of numeric_only in DataFrameGroupBy.sum is deprecated. In a future version, numeric_only will default to False. Either specify numeric_only or select only columns which should be valid for the function.\n",
      "  results = all_data.groupby('Month').sum()\n"
     ]
    }
   ],
   "source": [
    "results = all_data.groupby('Month').sum()"
   ],
   "metadata": {
    "collapsed": false,
    "pycharm": {
     "name": "#%%\n"
    }
   }
  },
  {
   "cell_type": "code",
   "execution_count": 469,
   "outputs": [],
   "source": [
    "import matplotlib.pyplot as plt"
   ],
   "metadata": {
    "collapsed": false,
    "pycharm": {
     "name": "#%%\n"
    }
   }
  },
  {
   "cell_type": "code",
   "execution_count": 470,
   "outputs": [
    {
     "data": {
      "text/plain": "<Figure size 640x480 with 1 Axes>",
      "image/png": "[encoded data removed]"
     },
     "metadata": {},
     "output_type": "display_data"
    }
   ],
   "source": [
    "months = range(1,13)\n",
    "plt.bar(months,results['Sales'])\n",
    "plt.xticks(months)\n",
    "plt.ylabel('Sales in USD')\n",
    "plt.xlabel('Month Number')\n",
    "plt.show()"
   ],
   "metadata": {
    "collapsed": false,
    "pycharm": {
     "name": "#%%\n"
    }
   }
  },
  {
   "cell_type": "markdown",
   "source": [
    "### What city has the highest number of sales"
   ],
   "metadata": {
    "collapsed": false,
    "pycharm": {
     "name": "#%% md\n"
    }
   }
  },
  {
   "cell_type": "code",
   "execution_count": 471,
   "outputs": [],
   "source": [
    "def get_city(address):\n",
    "        return address.split(',')[1]\n",
    "\n",
    "\n",
    "def get_state(address):\n",
    "        return address.split(',')[2].split(' ')[1]\n",
    "\n",
    "all_data['City'] = all_data['Purchase Address'].apply(lambda x: f\"{get_city(x)} ({get_state(x)})\")"
   ],
   "metadata": {
    "collapsed": false,
    "pycharm": {
     "name": "#%%\n"
    }
   }
  },
  {
   "cell_type": "code",
   "execution_count": 472,
   "outputs": [
    {
     "data": {
      "text/plain": "       Order ID             Product  Quantity Ordered  Price Each  \\\n29834    181069  Macbook Pro Laptop                 2     1700.00   \n173613   210292  Macbook Pro Laptop                 2     1700.00   \n89549    200528  Macbook Pro Laptop                 2     1700.00   \n30336    181544  Macbook Pro Laptop                 2     1700.00   \n137282   278637     ThinkPad Laptop                 2      999.99   \n\n            Order Date                       Purchase Address  Month    Sales  \\\n29834   04/27/19 21:01   668 Park St, San Francisco, CA 94016      4  3400.00   \n173613  06/08/19 09:00  953 Ridge St, San Francisco, CA 94016      6  3400.00   \n89549   05/13/19 13:40           643 4th St, Boston, MA 02215      5  3400.00   \n30336   04/22/19 12:48   731 11th St, New York City, NY 10001      4  3400.00   \n137282  10/02/19 16:06         643 Cedar St, Boston, MA 02215     10  1999.98   \n\n                       City  \n29834    San Francisco (CA)  \n173613   San Francisco (CA)  \n89549           Boston (MA)  \n30336    New York City (NY)  \n137282          Boston (MA)  ",
      "text/html": "<div>\n<style scoped>\n    .dataframe tbody tr th:only-of-type {\n        vertical-align: middle;\n    }\n\n    .dataframe tbody tr th {\n        vertical-align: top;\n    }\n\n    .dataframe thead th {\n        text-align: right;\n    }\n</style>\n<table border=\"1\" class=\"dataframe\">\n  <thead>\n    <tr style=\"text-align: right;\">\n      <th></th>\n      <th>Order ID</th>\n      <th>Product</th>\n      <th>Quantity Ordered</th>\n      <th>Price Each</th>\n      <th>Order Date</th>\n      <th>Purchase Address</th>\n      <th>Month</th>\n      <th>Sales</th>\n      <th>City</th>\n    </tr>\n  </thead>\n  <tbody>\n    <tr>\n      <th>29834</th>\n      <td>181069</td>\n      <td>Macbook Pro Laptop</td>\n      <td>2</td>\n      <td>1700.00</td>\n      <td>04/27/19 21:01</td>\n      <td>668 Park St, San Francisco, CA 94016</td>\n      <td>4</td>\n      <td>3400.00</td>\n      <td>San Francisco (CA)</td>\n    </tr>\n    <tr>\n      <th>173613</th>\n      <td>210292</td>\n      <td>Macbook Pro Laptop</td>\n      <td>2</td>\n      <td>1700.00</td>\n      <td>06/08/19 09:00</td>\n      <td>953 Ridge St, San Francisco, CA 94016</td>\n      <td>6</td>\n      <td>3400.00</td>\n      <td>San Francisco (CA)</td>\n    </tr>\n    <tr>\n      <th>89549</th>\n      <td>200528</td>\n      <td>Macbook Pro Laptop</td>\n      <td>2</td>\n      <td>1700.00</td>\n      <td>05/13/19 13:40</td>\n      <td>643 4th St, Boston, MA 02215</td>\n      <td>5</td>\n      <td>3400.00</td>\n      <td>Boston (MA)</td>\n    </tr>\n    <tr>\n      <th>30336</th>\n      <td>181544</td>\n      <td>Macbook Pro Laptop</td>\n      <td>2</td>\n      <td>1700.00</td>\n      <td>04/22/19 12:48</td>\n      <td>731 11th St, New York City, NY 10001</td>\n      <td>4</td>\n      <td>3400.00</td>\n      <td>New York City (NY)</td>\n    </tr>\n    <tr>\n      <th>137282</th>\n      <td>278637</td>\n      <td>ThinkPad Laptop</td>\n      <td>2</td>\n      <td>999.99</td>\n      <td>10/02/19 16:06</td>\n      <td>643 Cedar St, Boston, MA 02215</td>\n      <td>10</td>\n      <td>1999.98</td>\n      <td>Boston (MA)</td>\n    </tr>\n  </tbody>\n</table>\n</div>"
     },
     "execution_count": 472,
     "metadata": {},
     "output_type": "execute_result"
    }
   ],
   "source": [
    "all_data.head()"
   ],
   "metadata": {
    "collapsed": false,
    "pycharm": {
     "name": "#%%\n"
    }
   }
  },
  {
   "cell_type": "code",
   "execution_count": 473,
   "outputs": [
    {
     "name": "stderr",
     "output_type": "stream",
     "text": [
      "/var/folders/sd/vw2b2tf52yq_7zmqkl8llhp80000gp/T/ipykernel_53695/1953017743.py:1: FutureWarning: The default value of numeric_only in DataFrameGroupBy.sum is deprecated. In a future version, numeric_only will default to False. Either specify numeric_only or select only columns which should be valid for the function.\n",
      "  cities_result = all_data.groupby('City').sum()\n"
     ]
    },
    {
     "data": {
      "text/plain": "                   Quantity Ordered  Price Each   Month       Sales\nCity                                                               \n Atlanta (GA)                 16602  2779908.20  104794  2795498.58\n Austin (TX)                  11153  1809873.61   69829  1819581.75\n Boston (MA)                  22528  3637409.77  141112  3661642.01\n Dallas (TX)                  16730  2752627.82  104620  2767975.40\n Los Angeles (CA)             33289  5421435.23  208325  5452570.80",
      "text/html": "<div>\n<style scoped>\n    .dataframe tbody tr th:only-of-type {\n        vertical-align: middle;\n    }\n\n    .dataframe tbody tr th {\n        vertical-align: top;\n    }\n\n    .dataframe thead th {\n        text-align: right;\n    }\n</style>\n<table border=\"1\" class=\"dataframe\">\n  <thead>\n    <tr style=\"text-align: right;\">\n      <th></th>\n      <th>Quantity Ordered</th>\n      <th>Price Each</th>\n      <th>Month</th>\n      <th>Sales</th>\n    </tr>\n    <tr>\n      <th>City</th>\n      <th></th>\n      <th></th>\n      <th></th>\n      <th></th>\n    </tr>\n  </thead>\n  <tbody>\n    <tr>\n      <th>Atlanta (GA)</th>\n      <td>16602</td>\n      <td>2779908.20</td>\n      <td>104794</td>\n      <td>2795498.58</td>\n    </tr>\n    <tr>\n      <th>Austin (TX)</th>\n      <td>11153</td>\n      <td>1809873.61</td>\n      <td>69829</td>\n      <td>1819581.75</td>\n    </tr>\n    <tr>\n      <th>Boston (MA)</th>\n      <td>22528</td>\n      <td>3637409.77</td>\n      <td>141112</td>\n      <td>3661642.01</td>\n    </tr>\n    <tr>\n      <th>Dallas (TX)</th>\n      <td>16730</td>\n      <td>2752627.82</td>\n      <td>104620</td>\n      <td>2767975.40</td>\n    </tr>\n    <tr>\n      <th>Los Angeles (CA)</th>\n      <td>33289</td>\n      <td>5421435.23</td>\n      <td>208325</td>\n      <td>5452570.80</td>\n    </tr>\n  </tbody>\n</table>\n</div>"
     },
     "execution_count": 473,
     "metadata": {},
     "output_type": "execute_result"
    }
   ],
   "source": [
    "cities_result = all_data.groupby('City').sum()\n",
    "cities_result.head()"
   ],
   "metadata": {
    "collapsed": false,
    "pycharm": {
     "name": "#%%\n"
    }
   }
  },
  {
   "cell_type": "code",
   "execution_count": 474,
   "outputs": [
    {
     "data": {
      "text/plain": "<Figure size 640x480 with 1 Axes>",
      "image/png": "[encoded data removed]"
     },
     "metadata": {},
     "output_type": "display_data"
    }
   ],
   "source": [
    "cities = [city for city, df in all_data.groupby('City')]\n",
    "plt.bar(cities,cities_result['Sales'])\n",
    "plt.xticks(cities, rotation = 'vertical', size = 8)\n",
    "plt.ylabel('Sales in USD')\n",
    "plt.xlabel('City')\n",
    "plt.show()"
   ],
   "metadata": {
    "collapsed": false,
    "pycharm": {
     "name": "#%%\n"
    }
   }
  },
  {
   "cell_type": "markdown",
   "source": [
    "# Most popular order time"
   ],
   "metadata": {
    "collapsed": false,
    "pycharm": {
     "name": "#%% md\n"
    }
   }
  },
  {
   "cell_type": "code",
   "execution_count": 475,
   "outputs": [],
   "source": [
    "all_data['Order Date'] = pd.to_datetime(all_data['Order Date'])"
   ],
   "metadata": {
    "collapsed": false,
    "pycharm": {
     "name": "#%%\n"
    }
   }
  },
  {
   "cell_type": "code",
   "execution_count": 476,
   "outputs": [],
   "source": [
    "all_data['Hour'] = all_data['Order Date'].dt.hour\n",
    "all_data['Minute'] = all_data['Order Date'].dt.minute"
   ],
   "metadata": {
    "collapsed": false,
    "pycharm": {
     "name": "#%%\n"
    }
   }
  },
  {
   "cell_type": "code",
   "execution_count": 477,
   "outputs": [
    {
     "data": {
      "text/plain": "       Order ID             Product  Quantity Ordered  Price Each  \\\n29834    181069  Macbook Pro Laptop                 2     1700.00   \n173613   210292  Macbook Pro Laptop                 2     1700.00   \n89549    200528  Macbook Pro Laptop                 2     1700.00   \n30336    181544  Macbook Pro Laptop                 2     1700.00   \n137282   278637     ThinkPad Laptop                 2      999.99   \n\n                Order Date                       Purchase Address  Month  \\\n29834  2019-04-27 21:01:00   668 Park St, San Francisco, CA 94016      4   \n173613 2019-06-08 09:00:00  953 Ridge St, San Francisco, CA 94016      6   \n89549  2019-05-13 13:40:00           643 4th St, Boston, MA 02215      5   \n30336  2019-04-22 12:48:00   731 11th St, New York City, NY 10001      4   \n137282 2019-10-02 16:06:00         643 Cedar St, Boston, MA 02215     10   \n\n          Sales                 City  Hour  Minute  \n29834   3400.00   San Francisco (CA)    21       1  \n173613  3400.00   San Francisco (CA)     9       0  \n89549   3400.00          Boston (MA)    13      40  \n30336   3400.00   New York City (NY)    12      48  \n137282  1999.98          Boston (MA)    16       6  ",
      "text/html": "<div>\n<style scoped>\n    .dataframe tbody tr th:only-of-type {\n        vertical-align: middle;\n    }\n\n    .dataframe tbody tr th {\n        vertical-align: top;\n    }\n\n    .dataframe thead th {\n        text-align: right;\n    }\n</style>\n<table border=\"1\" class=\"dataframe\">\n  <thead>\n    <tr style=\"text-align: right;\">\n      <th></th>\n      <th>Order ID</th>\n      <th>Product</th>\n      <th>Quantity Ordered</th>\n      <th>Price Each</th>\n      <th>Order Date</th>\n      <th>Purchase Address</th>\n      <th>Month</th>\n      <th>Sales</th>\n      <th>City</th>\n      <th>Hour</th>\n      <th>Minute</th>\n    </tr>\n  </thead>\n  <tbody>\n    <tr>\n      <th>29834</th>\n      <td>181069</td>\n      <td>Macbook Pro Laptop</td>\n      <td>2</td>\n      <td>1700.00</td>\n      <td>2019-04-27 21:01:00</td>\n      <td>668 Park St, San Francisco, CA 94016</td>\n      <td>4</td>\n      <td>3400.00</td>\n      <td>San Francisco (CA)</td>\n      <td>21</td>\n      <td>1</td>\n    </tr>\n    <tr>\n      <th>173613</th>\n      <td>210292</td>\n      <td>Macbook Pro Laptop</td>\n      <td>2</td>\n      <td>1700.00</td>\n      <td>2019-06-08 09:00:00</td>\n      <td>953 Ridge St, San Francisco, CA 94016</td>\n      <td>6</td>\n      <td>3400.00</td>\n      <td>San Francisco (CA)</td>\n      <td>9</td>\n      <td>0</td>\n    </tr>\n    <tr>\n      <th>89549</th>\n      <td>200528</td>\n      <td>Macbook Pro Laptop</td>\n      <td>2</td>\n      <td>1700.00</td>\n      <td>2019-05-13 13:40:00</td>\n      <td>643 4th St, Boston, MA 02215</td>\n      <td>5</td>\n      <td>3400.00</td>\n      <td>Boston (MA)</td>\n      <td>13</td>\n      <td>40</td>\n    </tr>\n    <tr>\n      <th>30336</th>\n      <td>181544</td>\n      <td>Macbook Pro Laptop</td>\n      <td>2</td>\n      <td>1700.00</td>\n      <td>2019-04-22 12:48:00</td>\n      <td>731 11th St, New York City, NY 10001</td>\n      <td>4</td>\n      <td>3400.00</td>\n      <td>New York City (NY)</td>\n      <td>12</td>\n      <td>48</td>\n    </tr>\n    <tr>\n      <th>137282</th>\n      <td>278637</td>\n      <td>ThinkPad Laptop</td>\n      <td>2</td>\n      <td>999.99</td>\n      <td>2019-10-02 16:06:00</td>\n      <td>643 Cedar St, Boston, MA 02215</td>\n      <td>10</td>\n      <td>1999.98</td>\n      <td>Boston (MA)</td>\n      <td>16</td>\n      <td>6</td>\n    </tr>\n  </tbody>\n</table>\n</div>"
     },
     "execution_count": 477,
     "metadata": {},
     "output_type": "execute_result"
    }
   ],
   "source": [
    "all_data.head()"
   ],
   "metadata": {
    "collapsed": false,
    "pycharm": {
     "name": "#%%\n"
    }
   }
  },
  {
   "cell_type": "code",
   "execution_count": 478,
   "outputs": [],
   "source": [
    "hours = [hour for hour , df in all_data.groupby('Hour')]"
   ],
   "metadata": {
    "collapsed": false,
    "pycharm": {
     "name": "#%%\n"
    }
   }
  },
  {
   "cell_type": "code",
   "execution_count": 479,
   "outputs": [
    {
     "data": {
      "text/plain": "<Figure size 640x480 with 1 Axes>",
      "image/png": "[encoded data removed]"
     },
     "metadata": {},
     "output_type": "display_data"
    }
   ],
   "source": [
    "plt.plot(hours, all_data.groupby(['Hour']).count())\n",
    "plt.xticks(hours)\n",
    "plt.xlabel('Hours')\n",
    "plt.ylabel('Number of Orders')\n",
    "plt.grid()\n",
    "plt.show()"
   ],
   "metadata": {
    "collapsed": false,
    "pycharm": {
     "name": "#%%\n"
    }
   }
  },
  {
   "cell_type": "markdown",
   "source": [
    "###  The most common group of products solt together\n"
   ],
   "metadata": {
    "collapsed": false,
    "pycharm": {
     "name": "#%% md\n"
    }
   }
  },
  {
   "cell_type": "code",
   "execution_count": 480,
   "outputs": [],
   "source": [
    "df = all_data[all_data['Order ID'].duplicated(keep=False)]"
   ],
   "metadata": {
    "collapsed": false,
    "pycharm": {
     "name": "#%%\n"
    }
   }
  },
  {
   "cell_type": "code",
   "execution_count": 481,
   "outputs": [
    {
     "name": "stderr",
     "output_type": "stream",
     "text": [
      "/var/folders/sd/vw2b2tf52yq_7zmqkl8llhp80000gp/T/ipykernel_53695/1154884736.py:1: SettingWithCopyWarning: \n",
      "A value is trying to be set on a copy of a slice from a DataFrame.\n",
      "Try using .loc[row_indexer,col_indexer] = value instead\n",
      "\n",
      "See the caveats in the documentation: https://pandas.pydata.org/pandas-docs/stable/user_guide/indexing.html#returning-a-view-versus-a-copy\n",
      "  df['Grouped'] = df.groupby('Order ID')['Product'].transform(lambda x:','. join(x))\n"
     ]
    }
   ],
   "source": [
    "df['Grouped'] = df.groupby('Order ID')['Product'].transform(lambda x:','. join(x))"
   ],
   "metadata": {
    "collapsed": false,
    "pycharm": {
     "name": "#%%\n"
    }
   }
  },
  {
   "cell_type": "code",
   "execution_count": 482,
   "outputs": [
    {
     "data": {
      "text/plain": "      Order ID                                      Grouped\n29834   181069    Macbook Pro Laptop,34in Ultrawide Monitor\n64927   170979     Macbook Pro Laptop,AA Batteries (4-pack)\n65933   171945  Macbook Pro Laptop,Lightning Charging Cable\n66273   172267          Macbook Pro Laptop,Wired Headphones\n72366   238213  Macbook Pro Laptop,Apple Airpods Headphones",
      "text/html": "<div>\n<style scoped>\n    .dataframe tbody tr th:only-of-type {\n        vertical-align: middle;\n    }\n\n    .dataframe tbody tr th {\n        vertical-align: top;\n    }\n\n    .dataframe thead th {\n        text-align: right;\n    }\n</style>\n<table border=\"1\" class=\"dataframe\">\n  <thead>\n    <tr style=\"text-align: right;\">\n      <th></th>\n      <th>Order ID</th>\n      <th>Grouped</th>\n    </tr>\n  </thead>\n  <tbody>\n    <tr>\n      <th>29834</th>\n      <td>181069</td>\n      <td>Macbook Pro Laptop,34in Ultrawide Monitor</td>\n    </tr>\n    <tr>\n      <th>64927</th>\n      <td>170979</td>\n      <td>Macbook Pro Laptop,AA Batteries (4-pack)</td>\n    </tr>\n    <tr>\n      <th>65933</th>\n      <td>171945</td>\n      <td>Macbook Pro Laptop,Lightning Charging Cable</td>\n    </tr>\n    <tr>\n      <th>66273</th>\n      <td>172267</td>\n      <td>Macbook Pro Laptop,Wired Headphones</td>\n    </tr>\n    <tr>\n      <th>72366</th>\n      <td>238213</td>\n      <td>Macbook Pro Laptop,Apple Airpods Headphones</td>\n    </tr>\n  </tbody>\n</table>\n</div>"
     },
     "execution_count": 482,
     "metadata": {},
     "output_type": "execute_result"
    }
   ],
   "source": [
    "df = df[['Order ID', 'Grouped']].drop_duplicates()\n",
    "df.head()"
   ],
   "metadata": {
    "collapsed": false,
    "pycharm": {
     "name": "#%%\n"
    }
   }
  },
  {
   "cell_type": "code",
   "execution_count": 483,
   "outputs": [],
   "source": [
    "from itertools import combinations\n",
    "from collections import Counter\n"
   ],
   "metadata": {
    "collapsed": false,
    "pycharm": {
     "name": "#%%\n"
    }
   }
  },
  {
   "cell_type": "code",
   "execution_count": 484,
   "outputs": [],
   "source": [
    "count = Counter()"
   ],
   "metadata": {
    "collapsed": false,
    "pycharm": {
     "name": "#%%\n"
    }
   }
  },
  {
   "cell_type": "code",
   "execution_count": 485,
   "outputs": [],
   "source": [
    "for row in df['Grouped']:\n",
    "    row_list = row.split(',')\n",
    "    count.update(Counter(combinations(row_list,2))) # if you want to change the grouping, instead of 2 use 3 or 4 in order to see more combinations\n"
   ],
   "metadata": {
    "collapsed": false,
    "pycharm": {
     "name": "#%%\n"
    }
   }
  },
  {
   "cell_type": "code",
   "execution_count": 486,
   "outputs": [
    {
     "data": {
      "text/plain": "[(('iPhone', 'Lightning Charging Cable'), 1015),\n (('Google Phone', 'USB-C Charging Cable'), 999),\n (('iPhone', 'Wired Headphones'), 462),\n (('Google Phone', 'Wired Headphones'), 423),\n (('iPhone', 'Apple Airpods Headphones'), 373),\n (('Vareebadd Phone', 'USB-C Charging Cable'), 368),\n (('Google Phone', 'Bose SoundSport Headphones'), 228),\n (('Wired Headphones', 'USB-C Charging Cable'), 189),\n (('Vareebadd Phone', 'Wired Headphones'), 149),\n (('Apple Airpods Headphones', 'Lightning Charging Cable'), 116)]"
     },
     "execution_count": 486,
     "metadata": {},
     "output_type": "execute_result"
    }
   ],
   "source": [
    "count.most_common(10)"
   ],
   "metadata": {
    "collapsed": false,
    "pycharm": {
     "name": "#%%\n"
    }
   }
  },
  {
   "cell_type": "code",
   "execution_count": 487,
   "outputs": [
    {
     "name": "stdout",
     "output_type": "stream",
     "text": [
      "('iPhone', 'Lightning Charging Cable') 1015\n",
      "('Google Phone', 'USB-C Charging Cable') 999\n",
      "('iPhone', 'Wired Headphones') 462\n",
      "('Google Phone', 'Wired Headphones') 423\n",
      "('iPhone', 'Apple Airpods Headphones') 373\n",
      "('Vareebadd Phone', 'USB-C Charging Cable') 368\n",
      "('Google Phone', 'Bose SoundSport Headphones') 228\n",
      "('Wired Headphones', 'USB-C Charging Cable') 189\n",
      "('Vareebadd Phone', 'Wired Headphones') 149\n",
      "('Apple Airpods Headphones', 'Lightning Charging Cable') 116\n",
      "('Lightning Charging Cable', 'Wired Headphones') 112\n",
      "('Lightning Charging Cable', 'AA Batteries (4-pack)') 105\n",
      "('Bose SoundSport Headphones', 'USB-C Charging Cable') 102\n",
      "('Apple Airpods Headphones', 'Wired Headphones') 100\n",
      "('Lightning Charging Cable', 'USB-C Charging Cable') 94\n",
      "('USB-C Charging Cable', 'AAA Batteries (4-pack)') 90\n",
      "('Wired Headphones', 'AAA Batteries (4-pack)') 86\n",
      "('Wired Headphones', 'AA Batteries (4-pack)') 82\n",
      "('Vareebadd Phone', 'Bose SoundSport Headphones') 82\n",
      "('Apple Airpods Headphones', 'AAA Batteries (4-pack)') 81\n"
     ]
    }
   ],
   "source": [
    "for key,value in count.most_common(20):\n",
    "    print(key,value)"
   ],
   "metadata": {
    "collapsed": false,
    "pycharm": {
     "name": "#%%\n"
    }
   }
  },
  {
   "cell_type": "code",
   "execution_count": null,
   "outputs": [],
   "source": [],
   "metadata": {
    "collapsed": false,
    "pycharm": {
     "name": "#%%\n"
    }
   }
  }
 ],
 "metadata": {
  "kernelspec": {
   "display_name": "Python 3",
   "language": "python",
   "name": "python3"
  },
  "language_info": {
   "codemirror_mode": {
    "name": "ipython",
    "version": 2
   },
   "file_extension": ".py",
   "mimetype": "text/x-python",
   "name": "python",
   "nbconvert_exporter": "python",
   "pygments_lexer": "ipython2",
   "version": "2.7.6"
  }
 },
 "nbformat": 4,
 "nbformat_minor": 0
}